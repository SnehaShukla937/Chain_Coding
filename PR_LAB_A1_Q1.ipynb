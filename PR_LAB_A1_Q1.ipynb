{
  "nbformat": 4,
  "nbformat_minor": 0,
  "metadata": {
    "kernelspec": {
      "language": "python",
      "display_name": "Python 3",
      "name": "python3"
    },
    "language_info": {
      "name": "python",
      "version": "3.7.10",
      "mimetype": "text/x-python",
      "codemirror_mode": {
        "name": "ipython",
        "version": 3
      },
      "pygments_lexer": "ipython3",
      "nbconvert_exporter": "python",
      "file_extension": ".py"
    },
    "colab": {
      "name": "PR_LAB_A1_Q1.ipynb",
      "provenance": []
    }
  },
  "cells": [
    {
      "cell_type": "code",
      "metadata": {
        "execution": {
          "iopub.status.busy": "2021-08-27T20:54:32.993974Z",
          "iopub.execute_input": "2021-08-27T20:54:32.994412Z",
          "iopub.status.idle": "2021-08-27T20:54:33.011629Z",
          "shell.execute_reply.started": "2021-08-27T20:54:32.994366Z",
          "shell.execute_reply": "2021-08-27T20:54:33.009676Z"
        },
        "trusted": true,
        "id": "RGjOxW1fO5q1"
      },
      "source": [
        "# IMPORT ALL REQUIRED PACKAGES\n",
        "import cv2\n",
        "import numpy as np\n",
        "import matplotlib.pyplot as plt"
      ],
      "execution_count": 1,
      "outputs": []
    },
    {
      "cell_type": "code",
      "metadata": {
        "execution": {
          "iopub.status.busy": "2021-08-27T20:54:33.015929Z",
          "iopub.execute_input": "2021-08-27T20:54:33.016296Z",
          "iopub.status.idle": "2021-08-27T20:54:33.040007Z",
          "shell.execute_reply.started": "2021-08-27T20:54:33.016261Z",
          "shell.execute_reply": "2021-08-27T20:54:33.039075Z"
        },
        "trusted": true,
        "id": "IARdc-bgO5q3"
      },
      "source": [
        "# GET START POINT\n",
        "def start_point(img):\n",
        "    for i in range(img.shape[0]):    # loop over all rows\n",
        "        for j in range(img.shape[1]): # loop over all columns\n",
        "            if img[i][j] == 1: # condition\n",
        "                return i,j\n",
        "\n",
        "def getChainCode(img): # FUNCTION TO GET CHAIN CODE\n",
        "    x,y = start_point(img)  # assign start points to x and y\n",
        "    print(\"start point:\", x,y)\n",
        "    a,b = x,y  \n",
        "    checked = np.zeros_like(img) # create a zero filled matrix, 'checked', of size equal to image size\n",
        "    checked[x][y] = 1 # set 1 for start point location in 'checked'\n",
        "    while True:\n",
        "        # Checking for each image location and print their corrusponding code.\n",
        "        if img[x][y+1] == 1 and not checked[x][y+1]:\n",
        "            print(\"1\",end=\"\")\n",
        "            y += 1     \n",
        "            checked[x][y] = 1\n",
        "            \n",
        "        elif img[x+1][y+1] == 1 and not checked[x+1][y+1]:\n",
        "            print(\"2\",end=\"\")\n",
        "            x += 1\n",
        "            y += 1\n",
        "            checked[x][y] = 1\n",
        "            \n",
        "        elif img[x+1][y] == 1 and not checked[x+1][y]:\n",
        "            print(\"3\",end=\"\")\n",
        "            x += 1\n",
        "            checked[x][y] = 1\n",
        "            \n",
        "        elif img[x+1][y-1] == 1 and not checked[x+1][y-1]:\n",
        "            print(\"4\",end=\"\")\n",
        "            x += 1\n",
        "            y -= 1\n",
        "            checked[x][y] = 1\n",
        "            \n",
        "        elif img[x][y-1] == 1 and not checked[x][y-1]:\n",
        "            print(\"5\",end=\"\")\n",
        "            y -= 1\n",
        "            checked[x][y] = 1\n",
        "            \n",
        "        elif img[x-1][y-1] == 1 and not checked[x-1][y-1]:\n",
        "            print(\"6\",end=\"\")\n",
        "            x -= 1\n",
        "            y -= 1\n",
        "            checked[x][y] = 1\n",
        "        \n",
        "        elif img[x-1][y] == 1 and not checked[x-1][y]:\n",
        "            print(\"7\",end=\"\")\n",
        "            x -= 1\n",
        "            checked[x][y] = 1  \n",
        "            \n",
        "        elif img[x-1][y+1] == 1 and not checked[x-1][y+1]:\n",
        "            print(\"8\",end=\"\")\n",
        "            x -= 1\n",
        "            y += 1\n",
        "            checked[x][y] = 1  \n",
        "            \n",
        "        else:\n",
        "            # check for end chain code condition\n",
        "            diff_x = (a-x) \n",
        "            diff_y = (b-y) \n",
        "            if diff_x in [-1,0,1] and diff_y in [-1,0,1]:\n",
        "                if (diff_x,diff_y) == (0,1):\n",
        "                    print(\"1\",end=\"\")\n",
        "\n",
        "                elif (diff_x,diff_y) == (1,1):\n",
        "                    print(\"2\",end=\"\")\n",
        "\n",
        "                elif (diff_x,diff_y) == (1,0):\n",
        "                    print(\"3\",end=\"\")\n",
        "\n",
        "                elif (diff_x,diff_y) == (1,-1):\n",
        "                    print(\"4\",end=\"\")\n",
        "\n",
        "                elif (diff_x,diff_y) == (0,-1):\n",
        "                    print(\"5\",end=\"\")\n",
        "\n",
        "                elif (diff_x,diff_y) == (-1,-1):\n",
        "                    print(\"6\",end=\"\")\n",
        "\n",
        "                elif (diff_x,diff_y) == (-1,0):\n",
        "                    print(\"7\",end=\"\")\n",
        "\n",
        "                elif (diff_x,diff_y) == (-1,1):\n",
        "                    print(\"8\",end=\"\")\n",
        "            print('\\n')\n",
        "            break"
      ],
      "execution_count": 2,
      "outputs": []
    },
    {
      "cell_type": "code",
      "metadata": {
        "execution": {
          "iopub.status.busy": "2021-08-27T20:54:33.041617Z",
          "iopub.execute_input": "2021-08-27T20:54:33.041953Z",
          "iopub.status.idle": "2021-08-27T20:54:33.207942Z",
          "shell.execute_reply.started": "2021-08-27T20:54:33.041923Z",
          "shell.execute_reply": "2021-08-27T20:54:33.206665Z"
        },
        "trusted": true,
        "colab": {
          "base_uri": "https://localhost:8080/",
          "height": 335
        },
        "id": "3xytJ0qMO5q6",
        "outputId": "421c6dbb-59f8-49d6-8bba-d5833dbab912"
      },
      "source": [
        "# Create square and printed chain code\n",
        "z1 = np.zeros((50,50))\n",
        "z1[10:20,10] = 1\n",
        "z1[10:20,20] = 1\n",
        "z1[20,10:21] = 1\n",
        "z1[10,10:20] = 1\n",
        "plt.imshow(z1)\n",
        "print(\"Square:\")\n",
        "getChainCode(z1)"
      ],
      "execution_count": 3,
      "outputs": [
        {
          "output_type": "stream",
          "text": [
            "Square:\n",
            "start point: 10 10\n",
            "1111111111333333333355555555557777777777\n",
            "\n"
          ],
          "name": "stdout"
        },
        {
          "output_type": "display_data",
          "data": {
            "image/png": "[encoded data removed]",
            "text/plain": [
              "<Figure size 432x288 with 1 Axes>"
            ]
          },
          "metadata": {
            "needs_background": "light"
          }
        }
      ]
    },
    {
      "cell_type": "code",
      "metadata": {
        "execution": {
          "iopub.status.busy": "2021-08-27T20:54:33.209677Z",
          "iopub.execute_input": "2021-08-27T20:54:33.210131Z",
          "iopub.status.idle": "2021-08-27T20:54:33.371606Z",
          "shell.execute_reply.started": "2021-08-27T20:54:33.210086Z",
          "shell.execute_reply": "2021-08-27T20:54:33.370609Z"
        },
        "trusted": true,
        "colab": {
          "base_uri": "https://localhost:8080/",
          "height": 335
        },
        "id": "mSEVqdxHO5q_",
        "outputId": "72bd6f10-6bd2-4415-d390-76836a0ecafc"
      },
      "source": [
        "# Create concave polygon and printed chain code\n",
        "z2 = np.zeros((50,50))\n",
        "z2[20:30,10] = 1\n",
        "z2[20:30,30] = 1\n",
        "z2[30,10:31] = 1\n",
        "p = 10\n",
        "q = 20\n",
        "for i in range(11):\n",
        "    z2[i+p,q-i] = 1\n",
        "    z2[i+p,q+i] = 1\n",
        "\n",
        "plt.imshow(z2)\n",
        "print(\"Concave Polygon:\")\n",
        "getChainCode(z2)"
      ],
      "execution_count": 4,
      "outputs": [
        {
          "output_type": "stream",
          "text": [
            "Concave Polygon:\n",
            "start point: 10 20\n",
            "222222222233333333335555555555555555555577777777778888888888\n",
            "\n"
          ],
          "name": "stdout"
        },
        {
          "output_type": "display_data",
          "data": {
            "image/png": "[encoded data removed]",
            "text/plain": [
              "<Figure size 432x288 with 1 Axes>"
            ]
          },
          "metadata": {
            "needs_background": "light"
          }
        }
      ]
    },
    {
      "cell_type": "code",
      "metadata": {
        "execution": {
          "iopub.status.busy": "2021-08-27T20:54:33.373046Z",
          "iopub.execute_input": "2021-08-27T20:54:33.373360Z",
          "iopub.status.idle": "2021-08-27T20:54:33.537603Z",
          "shell.execute_reply.started": "2021-08-27T20:54:33.373328Z",
          "shell.execute_reply": "2021-08-27T20:54:33.536541Z"
        },
        "trusted": true,
        "colab": {
          "base_uri": "https://localhost:8080/",
          "height": 335
        },
        "id": "oqp_YTmUO5rA",
        "outputId": "2a77d586-dea5-4e41-8ba0-9e6403b56033"
      },
      "source": [
        "# Create convex polygon and printed chain code\n",
        "z3 = np.zeros((50,50))\n",
        "z3[11:30,10] = 1\n",
        "z3[11:30,30] = 1\n",
        "z3[30,10:31] = 1\n",
        "p = 10\n",
        "q = 20\n",
        "for i in range(11):\n",
        "    z3[i+p,i+p] = 1\n",
        "    z3[q-i, q+i] = 1\n",
        "   \n",
        "\n",
        "plt.imshow(z3)\n",
        "print(\"Convex Polygon:\")\n",
        "getChainCode(z3)"
      ],
      "execution_count": 5,
      "outputs": [
        {
          "output_type": "stream",
          "text": [
            "Convex Polygon:\n",
            "start point: 10 10\n",
            "2222222222888888888133333333333333333335555555555555555555577777777777777777777\n",
            "\n"
          ],
          "name": "stdout"
        },
        {
          "output_type": "display_data",
          "data": {
            "image/png": "[encoded data removed]",
            "text/plain": [
              "<Figure size 432x288 with 1 Axes>"
            ]
          },
          "metadata": {
            "needs_background": "light"
          }
        }
      ]
    },
    {
      "cell_type": "code",
      "metadata": {
        "id": "9613CQXSO5rC"
      },
      "source": [
        ""
      ],
      "execution_count": 5,
      "outputs": []
    }
  ]
}