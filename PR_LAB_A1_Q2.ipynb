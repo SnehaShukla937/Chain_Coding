{
  "nbformat": 4,
  "nbformat_minor": 0,
  "metadata": {
    "kernelspec": {
      "language": "python",
      "display_name": "Python 3",
      "name": "python3"
    },
    "language_info": {
      "name": "python",
      "version": "3.7.10",
      "mimetype": "text/x-python",
      "codemirror_mode": {
        "name": "ipython",
        "version": 3
      },
      "pygments_lexer": "ipython3",
      "nbconvert_exporter": "python",
      "file_extension": ".py"
    },
    "colab": {
      "name": "PR_LAB_A1_Q2.ipynb",
      "provenance": [],
      "collapsed_sections": []
    }
  },
  "cells": [
    {
      "cell_type": "code",
      "metadata": {
        "colab": {
          "base_uri": "https://localhost:8080/"
        },
        "id": "ONc_met_J8TR",
        "outputId": "87944710-4608-436f-a139-3fc375e5d8f3"
      },
      "source": [
        "from google.colab import drive\n",
        "drive.mount('/content/drive')"
      ],
      "execution_count": 1,
      "outputs": [
        {
          "output_type": "stream",
          "text": [
            "Mounted at /content/drive\n"
          ],
          "name": "stdout"
        }
      ]
    },
    {
      "cell_type": "code",
      "metadata": {
        "id": "KCtXct3bJ9SP"
      },
      "source": [
        "import os\n",
        "os.chdir(\"/content/drive/MyDrive/PR_Assignment/Q2/\")"
      ],
      "execution_count": 2,
      "outputs": []
    },
    {
      "cell_type": "code",
      "metadata": {
        "execution": {
          "iopub.status.busy": "2021-08-27T19:45:09.776194Z",
          "iopub.execute_input": "2021-08-27T19:45:09.776535Z",
          "iopub.status.idle": "2021-08-27T19:45:09.790648Z",
          "shell.execute_reply.started": "2021-08-27T19:45:09.776500Z",
          "shell.execute_reply": "2021-08-27T19:45:09.789725Z"
        },
        "trusted": true,
        "id": "cgkceF0QJpDM"
      },
      "source": [
        "# IMPORT REQUIRED PACKAGES\n",
        "import numpy as np\n",
        "import pandas as pd\n",
        "import matplotlib.pyplot as plt\n",
        "import cv2"
      ],
      "execution_count": 3,
      "outputs": []
    },
    {
      "cell_type": "code",
      "metadata": {
        "execution": {
          "iopub.status.busy": "2021-08-27T19:45:09.792456Z",
          "iopub.execute_input": "2021-08-27T19:45:09.792894Z",
          "iopub.status.idle": "2021-08-27T19:45:09.809891Z",
          "shell.execute_reply.started": "2021-08-27T19:45:09.792851Z",
          "shell.execute_reply": "2021-08-27T19:45:09.808283Z"
        },
        "trusted": true,
        "id": "aCXoeGY9JpDO"
      },
      "source": [
        "# LOAD INPUTS\n",
        "img1 = cv2.imread('1.png',cv2.IMREAD_UNCHANGED)\n",
        "img2 = cv2.imread('2.png',cv2.IMREAD_UNCHANGED)\n",
        "img3 = cv2.imread('3.png',cv2.IMREAD_UNCHANGED)\n",
        "img4 = cv2.imread('4.png',cv2.IMREAD_UNCHANGED)"
      ],
      "execution_count": 4,
      "outputs": []
    },
    {
      "cell_type": "code",
      "metadata": {
        "execution": {
          "iopub.status.busy": "2021-08-27T19:45:09.812071Z",
          "iopub.execute_input": "2021-08-27T19:45:09.812534Z",
          "iopub.status.idle": "2021-08-27T19:45:10.038410Z",
          "shell.execute_reply.started": "2021-08-27T19:45:09.812484Z",
          "shell.execute_reply": "2021-08-27T19:45:10.036940Z"
        },
        "trusted": true,
        "colab": {
          "base_uri": "https://localhost:8080/",
          "height": 140
        },
        "id": "vRajSsZ8JpDP",
        "outputId": "189a219f-3a02-4e29-eac2-2c4d7af72916"
      },
      "source": [
        "# VISUALIZE IMAGES\n",
        "plt.subplot(1,4,1)\n",
        "plt.xticks([],[])\n",
        "plt.yticks([],[])\n",
        "plt.title(\"Image1\")\n",
        "plt.imshow(img1)\n",
        "\n",
        "plt.subplot(1,4,2)\n",
        "plt.xticks([],[])\n",
        "plt.yticks([],[])\n",
        "plt.title(\"Image2\")\n",
        "plt.imshow(img2)\n",
        "\n",
        "plt.subplot(1,4,3)\n",
        "plt.xticks([],[])\n",
        "plt.yticks([],[])\n",
        "plt.title(\"Image3\")\n",
        "plt.imshow(img3)\n",
        "\n",
        "plt.subplot(1,4,4)\n",
        "plt.xticks([],[])\n",
        "plt.yticks([],[])\n",
        "plt.title(\"Image4\")\n",
        "plt.imshow(img4)"
      ],
      "execution_count": 5,
      "outputs": [
        {
          "output_type": "execute_result",
          "data": {
            "text/plain": [
              "<matplotlib.image.AxesImage at 0x7f723ef56650>"
            ]
          },
          "metadata": {},
          "execution_count": 5
        },
        {
          "output_type": "display_data",
          "data": {
            "image/png": "[encoded data removed]",
            "text/plain": [
              "<Figure size 432x288 with 4 Axes>"
            ]
          },
          "metadata": {}
        }
      ]
    },
    {
      "cell_type": "code",
      "metadata": {
        "execution": {
          "iopub.status.busy": "2021-08-27T19:45:10.042479Z",
          "iopub.execute_input": "2021-08-27T19:45:10.042872Z",
          "iopub.status.idle": "2021-08-27T19:45:10.067993Z",
          "shell.execute_reply.started": "2021-08-27T19:45:10.042836Z",
          "shell.execute_reply": "2021-08-27T19:45:10.066249Z"
        },
        "trusted": true,
        "colab": {
          "base_uri": "https://localhost:8080/"
        },
        "id": "0tWJwmQ3JpDS",
        "outputId": "b28e2f06-4156-4d4c-f059-ef8ad8e62a3f"
      },
      "source": [
        "# GET START POINT\n",
        "def start_point(img):\n",
        "    for i in range(img.shape[0]):    \n",
        "        for j in range(img.shape[1]):\n",
        "            if img[i][j] == 1:\n",
        "                return i,j\n",
        "            \n",
        "print('Start Point of img1: {0}'.format(start_point(img1)))\n",
        "print('Start Point of img2: {0}'.format(start_point(img2)))\n",
        "print('Start Point of img3: {0}'.format(start_point(img3)))\n",
        "print('Start Point of img4: {0}'.format(start_point(img4)))"
      ],
      "execution_count": 6,
      "outputs": [
        {
          "output_type": "stream",
          "text": [
            "Start Point of img1: (8, 8)\n",
            "Start Point of img2: (3, 8)\n",
            "Start Point of img3: (6, 8)\n",
            "Start Point of img4: (37, 58)\n"
          ],
          "name": "stdout"
        }
      ]
    },
    {
      "cell_type": "markdown",
      "metadata": {
        "id": "O9la267KJpDU"
      },
      "source": [
        "Following the direction, as given in question.\n",
        "\n",
        "* 1 : (0,1)\n",
        "* 2 : (1,1)\n",
        "* 3 : (1,0)\n",
        "* 4 : (1,-1)\n",
        "* 5 : (0,-1)\n",
        "* 6 : (-1,-1)\n",
        "* 7 : (-1,0)\n",
        "* 8 : (-1,1)"
      ]
    },
    {
      "cell_type": "code",
      "metadata": {
        "_kg_hide-input": true,
        "execution": {
          "iopub.status.busy": "2021-08-27T19:45:10.070626Z",
          "iopub.execute_input": "2021-08-27T19:45:10.071218Z",
          "iopub.status.idle": "2021-08-27T19:45:10.133241Z",
          "shell.execute_reply.started": "2021-08-27T19:45:10.071162Z",
          "shell.execute_reply": "2021-08-27T19:45:10.132098Z"
        },
        "trusted": true,
        "colab": {
          "base_uri": "https://localhost:8080/"
        },
        "id": "M3gSGc8_JpDY",
        "outputId": "de93bd7a-7ffe-43c3-9358-2612624e3aec"
      },
      "source": [
        "\n",
        "def getChainCode(img): # FUNCTION TO GET CHAIN CODE\n",
        "    x,y = start_point(img)\n",
        "    a,b = x,y\n",
        "    checked = np.zeros_like(img)\n",
        "    checked[x][y] = 1\n",
        "    while True:\n",
        "        # Checking for each image location and print their corrusponding code.\n",
        "        if img[x][y+1] == 1 and not checked[x][y+1]:\n",
        "            print(\"1\",end=\"\")\n",
        "            y += 1\n",
        "            checked[x][y] = 1\n",
        "            \n",
        "        elif img[x+1][y+1] == 1 and not checked[x+1][y+1]:\n",
        "            print(\"2\",end=\"\")\n",
        "            x += 1\n",
        "            y += 1\n",
        "            checked[x][y] = 1\n",
        "            \n",
        "        elif img[x+1][y] == 1 and not checked[x+1][y]:\n",
        "            print(\"3\",end=\"\")\n",
        "            x += 1\n",
        "            checked[x][y] = 1\n",
        "            \n",
        "        elif img[x+1][y-1] == 1 and not checked[x+1][y-1]:\n",
        "            print(\"4\",end=\"\")\n",
        "            x += 1\n",
        "            y -= 1\n",
        "            checked[x][y] = 1\n",
        "            \n",
        "        elif img[x][y-1] == 1 and not checked[x][y-1]:\n",
        "            print(\"5\",end=\"\")\n",
        "            y -= 1\n",
        "            checked[x][y] = 1\n",
        "            \n",
        "        elif img[x-1][y-1] == 1 and not checked[x-1][y-1]:\n",
        "            print(\"6\",end=\"\")\n",
        "            x -= 1\n",
        "            y -= 1\n",
        "            checked[x][y] = 1\n",
        "        \n",
        "        elif img[x-1][y] == 1 and (not checked[x-1][y]):\n",
        "            print(\"7\",end=\"\")\n",
        "            x -= 1\n",
        "            checked[x][y] = 1  \n",
        "            \n",
        "        elif img[x-1][y+1] == 1 and not checked[x-1][y+1]:\n",
        "            print(\"8\",end=\"\")\n",
        "            x -= 1\n",
        "            y += 1\n",
        "            checked[x][y] = 1  \n",
        "            \n",
        "        else:\n",
        "           # CONDITION FOR END POINT CHAIN CODE\n",
        "            diff_x = (a-x) \n",
        "            diff_y = (b-y) \n",
        "            if diff_x in [-1,0,1] and diff_y in [-1,0,1]:\n",
        "                if (diff_x,diff_y) == (0,1):\n",
        "                    print(\"1\",end=\"\")\n",
        "\n",
        "                elif (diff_x,diff_y) == (1,1):\n",
        "                    print(\"2\",end=\"\")\n",
        "\n",
        "                elif (diff_x,diff_y) == (1,0):\n",
        "                    print(\"3\",end=\"\")\n",
        "\n",
        "                elif (diff_x,diff_y) == (1,-1):\n",
        "                    print(\"4\",end=\"\")\n",
        "\n",
        "                elif (diff_x,diff_y) == (0,-1):\n",
        "                    print(\"5\",end=\"\")\n",
        "\n",
        "                elif (diff_x,diff_y) == (-1,-1):\n",
        "                    print(\"6\",end=\"\")\n",
        "\n",
        "                elif (diff_x,diff_y) == (-1,0):\n",
        "                    print(\"7\",end=\"\")\n",
        "\n",
        "                elif (diff_x,diff_y) == (-1,1):\n",
        "                    print(\"8\",end=\"\")\n",
        "            print('\\n')\n",
        "            break\n",
        "            \n",
        "print(\"Chain Codes,\")\n",
        "print(\"Image_1:\")\n",
        "getChainCode(img1) # code for Image1\n",
        "\n",
        "print(\"Image_2:\")\n",
        "getChainCode(img2) # code for Image2\n",
        "\n",
        "print(\"Image_3:\")\n",
        "getChainCode(img3) # code for Image3\n",
        "\n",
        "print(\"Image_4:\")\n",
        "getChainCode(img4) # code for Image4"
      ],
      "execution_count": 7,
      "outputs": [
        {
          "output_type": "stream",
          "text": [
            "Chain Codes,\n",
            "Image_1:\n",
            "1111333355557777\n",
            "\n",
            "Image_2:\n",
            "111222333444555666777888\n",
            "\n",
            "Image_3:\n",
            "111222444555666888\n",
            "\n",
            "Image_4:\n",
            "222222228888222222444444444666666555555555557668888888888\n",
            "\n"
          ],
          "name": "stdout"
        }
      ]
    }
  ]
}