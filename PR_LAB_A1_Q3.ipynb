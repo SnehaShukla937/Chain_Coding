{
  "nbformat": 4,
  "nbformat_minor": 0,
  "metadata": {
    "kernelspec": {
      "language": "python",
      "display_name": "Python 3",
      "name": "python3"
    },
    "language_info": {
      "name": "python",
      "version": "3.7.10",
      "mimetype": "text/x-python",
      "codemirror_mode": {
        "name": "ipython",
        "version": 3
      },
      "pygments_lexer": "ipython3",
      "nbconvert_exporter": "python",
      "file_extension": ".py"
    },
    "colab": {
      "name": "PR_LAB_A1_Q3.ipynb",
      "provenance": [],
      "collapsed_sections": []
    }
  },
  "cells": [
    {
      "cell_type": "code",
      "metadata": {
        "colab": {
          "base_uri": "https://localhost:8080/"
        },
        "id": "1peeuEHXC-_U",
        "outputId": "9dcfb253-49c5-46dc-a697-8e73a337dbaf"
      },
      "source": [
        "from google.colab import drive\n",
        "drive.mount('/content/drive')"
      ],
      "execution_count": 1,
      "outputs": [
        {
          "output_type": "stream",
          "text": [
            "Mounted at /content/drive\n"
          ],
          "name": "stdout"
        }
      ]
    },
    {
      "cell_type": "code",
      "metadata": {
        "execution": {
          "iopub.status.busy": "2021-08-27T18:47:21.566718Z",
          "iopub.execute_input": "2021-08-27T18:47:21.567292Z",
          "iopub.status.idle": "2021-08-27T18:47:21.579952Z",
          "shell.execute_reply.started": "2021-08-27T18:47:21.567244Z",
          "shell.execute_reply": "2021-08-27T18:47:21.578657Z"
        },
        "trusted": true,
        "id": "ILnEU4V4-JXU"
      },
      "source": [
        "# IMPORT REQUIRED PACKAGES\n",
        "import cv2\n",
        "import matplotlib.pyplot as plt\n",
        "from collections import deque\n",
        "import warnings\n",
        "import numpy as np\n",
        "warnings.filterwarnings('ignore')"
      ],
      "execution_count": 2,
      "outputs": []
    },
    {
      "cell_type": "code",
      "metadata": {
        "id": "wcReke5aFHz_"
      },
      "source": [
        "import os\n",
        "os.chdir(\"/content/drive/MyDrive/PR_Assignment/Q3/\")"
      ],
      "execution_count": 3,
      "outputs": []
    },
    {
      "cell_type": "code",
      "metadata": {
        "execution": {
          "iopub.status.busy": "2021-08-27T18:47:21.581792Z",
          "iopub.execute_input": "2021-08-27T18:47:21.582313Z",
          "iopub.status.idle": "2021-08-27T18:47:21.605496Z",
          "shell.execute_reply.started": "2021-08-27T18:47:21.582270Z",
          "shell.execute_reply": "2021-08-27T18:47:21.604377Z"
        },
        "trusted": true,
        "id": "_4vqEsRm-JXX"
      },
      "source": [
        "# LOAD INPUT IMAGE\n",
        "img1 = cv2.imread('1.png',cv2.IMREAD_UNCHANGED)\n",
        "img2 = cv2.imread('2.png',cv2.IMREAD_UNCHANGED)\n",
        "img3 = cv2.imread('3.png',cv2.IMREAD_UNCHANGED)"
      ],
      "execution_count": 4,
      "outputs": []
    },
    {
      "cell_type": "code",
      "metadata": {
        "execution": {
          "iopub.status.busy": "2021-08-27T18:47:21.606862Z",
          "iopub.execute_input": "2021-08-27T18:47:21.607364Z",
          "iopub.status.idle": "2021-08-27T18:47:21.824374Z",
          "shell.execute_reply.started": "2021-08-27T18:47:21.607325Z",
          "shell.execute_reply": "2021-08-27T18:47:21.823223Z"
        },
        "trusted": true,
        "colab": {
          "base_uri": "https://localhost:8080/",
          "height": 166
        },
        "id": "xdIBft70-JXa",
        "outputId": "3c861e21-b65a-45d3-871a-46499854a0a0"
      },
      "source": [
        "# VISUALIZE IMAGES\n",
        "plt.subplot(1,3,1)\n",
        "plt.xticks([],[])\n",
        "plt.yticks([],[])\n",
        "plt.title(\"Image1\")\n",
        "plt.imshow(img1)\n",
        "\n",
        "plt.subplot(1,3,2)\n",
        "plt.xticks([],[])\n",
        "plt.yticks([],[])\n",
        "plt.title(\"Image2\")\n",
        "plt.imshow(img2)\n",
        "\n",
        "plt.subplot(1,3,3)\n",
        "plt.xticks([],[])\n",
        "plt.yticks([],[])\n",
        "plt.title(\"Image3\")\n",
        "plt.imshow(img3)"
      ],
      "execution_count": 5,
      "outputs": [
        {
          "output_type": "execute_result",
          "data": {
            "text/plain": [
              "<matplotlib.image.AxesImage at 0x7fc107adec50>"
            ]
          },
          "metadata": {},
          "execution_count": 5
        },
        {
          "output_type": "display_data",
          "data": {
            "image/png": "[encoded data removed]",
            "text/plain": [
              "<Figure size 432x288 with 3 Axes>"
            ]
          },
          "metadata": {}
        }
      ]
    },
    {
      "cell_type": "code",
      "metadata": {
        "execution": {
          "iopub.status.busy": "2021-08-27T18:47:21.826167Z",
          "iopub.execute_input": "2021-08-27T18:47:21.826553Z",
          "iopub.status.idle": "2021-08-27T18:47:21.977303Z",
          "shell.execute_reply.started": "2021-08-27T18:47:21.826512Z",
          "shell.execute_reply": "2021-08-27T18:47:21.975824Z"
        },
        "trusted": true,
        "colab": {
          "base_uri": "https://localhost:8080/"
        },
        "id": "SkkesBUx-JXe",
        "outputId": "0e2dcbf4-f0d8-461d-d6f4-6bd5eadbad29"
      },
      "source": [
        "# FUNCTION TO GET NO. OF SHAPES IN ANY IMAGE\n",
        "def getNumFig(img): \n",
        "    # location for neighboring pixels, a-> x_axis, b->y_axis\n",
        "    a = [-1, -1, -1, 0, 1, 0, 1, 1]\n",
        "    b = [-1, 1, 0, -1, -1, 1, 0, 1]\n",
        "\n",
        "    (r,c) = (img.shape[0], img.shape[1]) # get no. of rows and columns of image\n",
        "    checked = np.zeros_like(img) # create an array of shape as image, with all zero values \n",
        "    out = 0  # a variable to store count of shapes\n",
        "    for i in range(r): # loop for each row\n",
        "        for j in range(c): # loop for each column\n",
        "            if img[i][j] == 1 and not checked[i][j]: # condition if the current pixel is 1 with no checked\n",
        "                index = [] \n",
        "                index.append((i, j))  # append tuple of curent location i and j in index\n",
        "                checked[i][j] = 1 # set checked is 1 for current location i and j\n",
        "                while index: # loop till index is empty\n",
        "                    x, y = index.pop(0) # remove (pop) first position value of index\n",
        "                    for p in range(len(a)): # loop over length of all neighbour possibilities\n",
        "                        if (x+a[p] >= 0 and x+a[p] < len(checked)) and \\\n",
        "                        (y+b[p] >= 0 and y+b[p] < len(checked[0])) and\\\n",
        "                        img[x+a[p]][y+b[p]] == 1 and not checked[x+a[p]][y+b[p]]: # condition for valid position    \n",
        "                            checked[x + a[p]][y + b[p]] = 1 # update checked location\n",
        "                            index.append((x + a[p], y + b[p])) #append current location into index\n",
        "                out += 1\n",
        " \n",
        "    return out\n",
        "\n",
        "print(\"total no. of shapes\")\n",
        "print(\"Image1:\",getNumFig(img1)) # output for Image1\n",
        "print(\"Image2:\",getNumFig(img2)) # output for Image2\n",
        "print(\"Image3:\",getNumFig(img3)) # output for Image3"
      ],
      "execution_count": 6,
      "outputs": [
        {
          "output_type": "stream",
          "text": [
            "total no. of shapes\n",
            "Image1: 4\n",
            "Image2: 3\n",
            "Image3: 3\n"
          ],
          "name": "stdout"
        }
      ]
    }
  ]
}